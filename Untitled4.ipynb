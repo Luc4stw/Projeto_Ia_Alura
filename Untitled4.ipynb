{
  "nbformat": 4,
  "nbformat_minor": 0,
  "metadata": {
    "colab": {
      "provenance": [],
      "authorship_tag": "ABX9TyOOv8VX56nnkgraO71QN4O2",
      "include_colab_link": true
    },
    "kernelspec": {
      "name": "python3",
      "display_name": "Python 3"
    },
    "language_info": {
      "name": "python"
    }
  },
  "cells": [
    {
      "cell_type": "markdown",
      "metadata": {
        "id": "view-in-github",
        "colab_type": "text"
      },
      "source": [
        "<a href=\"https://colab.research.google.com/github/Luc4stw/Projeto_Ia_Alura/blob/main/Untitled4.ipynb\" target=\"_parent\"><img src=\"https://colab.research.google.com/assets/colab-badge.svg\" alt=\"Open In Colab\"/></a>"
      ]
    },
    {
      "cell_type": "code",
      "execution_count": 2,
      "metadata": {
        "id": "_XyR12spny1B"
      },
      "outputs": [],
      "source": [
        "#Instalando o SDK do Google\n",
        "!pip install -q -U google-generativeai"
      ]
    },
    {
      "cell_type": "code",
      "source": [
        "#Configurações iniciais\n",
        "import google.generativeai as genai\n",
        "from google.colab import userdata\n",
        "API_KEY = userdata.get('SECRET_KEY')\n",
        "genai.configure(api_key=API_KEY)"
      ],
      "metadata": {
        "id": "Cim2ThLbokEp"
      },
      "execution_count": 8,
      "outputs": []
    },
    {
      "cell_type": "code",
      "source": [
        "#Listando os modelos disponíveis\n",
        "for m in genai.list_models():\n",
        "  if 'generateContent' in m.supported_generation_methods:\n",
        "    print(m.name)"
      ],
      "metadata": {
        "colab": {
          "base_uri": "https://localhost:8080/",
          "height": 138
        },
        "id": "L2kcAaolovXo",
        "outputId": "9ddcee9e-9035-4a4d-9130-b28aab3b04da"
      },
      "execution_count": 9,
      "outputs": [
        {
          "output_type": "stream",
          "name": "stdout",
          "text": [
            "models/gemini-1.0-pro\n",
            "models/gemini-1.0-pro-001\n",
            "models/gemini-1.0-pro-latest\n",
            "models/gemini-1.0-pro-vision-latest\n",
            "models/gemini-1.5-pro-latest\n",
            "models/gemini-pro\n",
            "models/gemini-pro-vision\n"
          ]
        }
      ]
    },
    {
      "cell_type": "code",
      "source": [
        "generation_config = {\n",
        "  \"candidate_count\": 1,\n",
        "  \"temperature\": 0.8,\n",
        "}"
      ],
      "metadata": {
        "id": "oatcgQ1_o4My"
      },
      "execution_count": 10,
      "outputs": []
    },
    {
      "cell_type": "code",
      "source": [
        "safety_settings={\n",
        "    'HATE': 'BLOCK_NONE',\n",
        "    'HARASSMENT': 'BLOCK_NONE',\n",
        "    'SEXUAL' : 'BLOCK_NONE',\n",
        "    'DANGEROUS' : 'BLOCK_NONE'\n",
        "    }"
      ],
      "metadata": {
        "id": "NIcI1xF2o7gs"
      },
      "execution_count": 11,
      "outputs": []
    },
    {
      "cell_type": "code",
      "source": [
        "model = genai.GenerativeModel(model_name='gemini-1.0-pro',\n",
        "                                  generation_config=generation_config,\n",
        "                                  safety_settings=safety_settings,)"
      ],
      "metadata": {
        "id": "3DQrziN3pBfz"
      },
      "execution_count": 12,
      "outputs": []
    },
    {
      "cell_type": "code",
      "source": [
        "response = model.generate_content(\"Cite países que tem mais acessibilidade para cadeirantes\")\n",
        "response.text"
      ],
      "metadata": {
        "id": "3X32JFXgpHCz"
      },
      "execution_count": null,
      "outputs": []
    },
    {
      "cell_type": "code",
      "source": [
        "chat = model.start_chat(history=[])\n",
        "\n",
        "prompt = input('Esperando prompt: ')\n",
        "\n",
        "while prompt != \"fim\":\n",
        "  response = chat.send_message(prompt)\n",
        "  print(\"Resposta:\", response.text, '\\n\\n')\n",
        "  prompt = input('Esperando prompt: ')"
      ],
      "metadata": {
        "colab": {
          "base_uri": "https://localhost:8080/",
          "height": 1000
        },
        "id": "MUeXRlHWpNY9",
        "outputId": "92d6d886-2adb-4728-a81b-7ca2a0d3968b"
      },
      "execution_count": 16,
      "outputs": [
        {
          "output_type": "stream",
          "name": "stdout",
          "text": [
            "Esperando prompt: crie um site de viagens para cadeirantes \n",
            "Resposta: **Nome do site:** Viajantes Sem Limites\n",
            "\n",
            "**Página inicial:**\n",
            "\n",
            "* Imagem em destaque de uma pessoa em cadeira de rodas explorando um destino deslumbrante\n",
            "* Título: Viajantes Sem Limites - Explorando o Mundo com Acessibilidade\n",
            "* Slogan: Turismo acessível para todos\n",
            "\n",
            "**Navegação:**\n",
            "\n",
            "* **Destinos:**\n",
            "    * Países e cidades acessíveis\n",
            "    * Guias de viagem e dicas para destinos específicos\n",
            "* **Hospedagem:**\n",
            "    * Hotéis e resorts acessíveis\n",
            "    * Aluguel de casas e apartamentos equipados para cadeirantes\n",
            "* **Transporte:**\n",
            "    * Opções de transporte acessível, incluindo trens, ônibus e companhias aéreas\n",
            "* **Acessorios:**\n",
            "    * Equipamentos e dispositivos para melhorar a acessibilidade durante as viagens\n",
            "* **Comunidade:**\n",
            "    * Fórum para conectar-se com outros viajantes cadeirantes\n",
            "    * Compartilhamento de experiências e dicas\n",
            "* **Sobre nós:**\n",
            "    * Missão e visão do site\n",
            "    * Equipe editorial e colunistas\n",
            "\n",
            "**Conteúdo do site:**\n",
            "\n",
            "**Destinos:**\n",
            "\n",
            "* Guias completos de países e cidades, destacando atrações acessíveis, restaurantes e opções de transporte\n",
            "* Entrevistas com viajantes cadeirantes compartilhando suas experiências e dicas\n",
            "* Artigos sobre destinos escondidos e locais menos conhecidos\n",
            "\n",
            "**Hospedagem:**\n",
            "\n",
            "* Listagens abrangentes de hotéis e resorts acessíveis\n",
            "* Avaliações de usuários e informações detalhadas sobre comodidades\n",
            "* Ofertas e descontos exclusivos para viajantes cadeirantes\n",
            "\n",
            "**Transporte:**\n",
            "\n",
            "* Informações sobre opções de transporte acessível, incluindo horários e tarifas\n",
            "* Dicas para reservar bilhetes e navegar em estações e aeroportos\n",
            "* Experiências pessoais de viajantes cadeirantes usando diferentes meios de transporte\n",
            "\n",
            "**Acessorios:**\n",
            "\n",
            "* Críticas e comparações de equipamentos de acessibilidade para viagens, como cadeiras de rodas, bengalas e dispositivos de transferência\n",
            "* Tutoriais e vídeos sobre como usar equipamentos de acessibilidade\n",
            "* Guias para montar uma mala acessível\n",
            "\n",
            "**Comunidade:**\n",
            "\n",
            "* Fórum ativo onde os viajantes cadeirantes podem se conectar, fazer perguntas e compartilhar histórias\n",
            "* Grupos de discussão sobre tópicos específicos, como viagens em destinos específicos ou adaptação de equipamentos\n",
            "* Artigos e entrevistas com líderes da comunidade e defensores da acessibilidade\n",
            "\n",
            "**Sobre nós:**\n",
            "\n",
            "* Declaração de missão: tornar as viagens acessíveis para todos, independentemente da deficiência\n",
            "* Biografias da equipe editorial e colunistas, destacando suas experiências e especializações\n",
            "* Reconhecimentos e prêmios recebidos pelo site \n",
            "\n",
            "\n"
          ]
        },
        {
          "output_type": "error",
          "ename": "KeyboardInterrupt",
          "evalue": "Interrupted by user",
          "traceback": [
            "\u001b[0;31m---------------------------------------------------------------------------\u001b[0m",
            "\u001b[0;31mKeyboardInterrupt\u001b[0m                         Traceback (most recent call last)",
            "\u001b[0;32m<ipython-input-16-481ebd21a3b4>\u001b[0m in \u001b[0;36m<cell line: 5>\u001b[0;34m()\u001b[0m\n\u001b[1;32m      6\u001b[0m   \u001b[0mresponse\u001b[0m \u001b[0;34m=\u001b[0m \u001b[0mchat\u001b[0m\u001b[0;34m.\u001b[0m\u001b[0msend_message\u001b[0m\u001b[0;34m(\u001b[0m\u001b[0mprompt\u001b[0m\u001b[0;34m)\u001b[0m\u001b[0;34m\u001b[0m\u001b[0;34m\u001b[0m\u001b[0m\n\u001b[1;32m      7\u001b[0m   \u001b[0mprint\u001b[0m\u001b[0;34m(\u001b[0m\u001b[0;34m\"Resposta:\"\u001b[0m\u001b[0;34m,\u001b[0m \u001b[0mresponse\u001b[0m\u001b[0;34m.\u001b[0m\u001b[0mtext\u001b[0m\u001b[0;34m,\u001b[0m \u001b[0;34m'\\n\\n'\u001b[0m\u001b[0;34m)\u001b[0m\u001b[0;34m\u001b[0m\u001b[0;34m\u001b[0m\u001b[0m\n\u001b[0;32m----> 8\u001b[0;31m   \u001b[0mprompt\u001b[0m \u001b[0;34m=\u001b[0m \u001b[0minput\u001b[0m\u001b[0;34m(\u001b[0m\u001b[0;34m'Esperando prompt: '\u001b[0m\u001b[0;34m)\u001b[0m\u001b[0;34m\u001b[0m\u001b[0;34m\u001b[0m\u001b[0m\n\u001b[0m",
            "\u001b[0;32m/usr/local/lib/python3.10/dist-packages/ipykernel/kernelbase.py\u001b[0m in \u001b[0;36mraw_input\u001b[0;34m(self, prompt)\u001b[0m\n\u001b[1;32m    849\u001b[0m                 \u001b[0;34m\"raw_input was called, but this frontend does not support input requests.\"\u001b[0m\u001b[0;34m\u001b[0m\u001b[0;34m\u001b[0m\u001b[0m\n\u001b[1;32m    850\u001b[0m             )\n\u001b[0;32m--> 851\u001b[0;31m         return self._input_request(str(prompt),\n\u001b[0m\u001b[1;32m    852\u001b[0m             \u001b[0mself\u001b[0m\u001b[0;34m.\u001b[0m\u001b[0m_parent_ident\u001b[0m\u001b[0;34m,\u001b[0m\u001b[0;34m\u001b[0m\u001b[0;34m\u001b[0m\u001b[0m\n\u001b[1;32m    853\u001b[0m             \u001b[0mself\u001b[0m\u001b[0;34m.\u001b[0m\u001b[0m_parent_header\u001b[0m\u001b[0;34m,\u001b[0m\u001b[0;34m\u001b[0m\u001b[0;34m\u001b[0m\u001b[0m\n",
            "\u001b[0;32m/usr/local/lib/python3.10/dist-packages/ipykernel/kernelbase.py\u001b[0m in \u001b[0;36m_input_request\u001b[0;34m(self, prompt, ident, parent, password)\u001b[0m\n\u001b[1;32m    893\u001b[0m             \u001b[0;32mexcept\u001b[0m \u001b[0mKeyboardInterrupt\u001b[0m\u001b[0;34m:\u001b[0m\u001b[0;34m\u001b[0m\u001b[0;34m\u001b[0m\u001b[0m\n\u001b[1;32m    894\u001b[0m                 \u001b[0;31m# re-raise KeyboardInterrupt, to truncate traceback\u001b[0m\u001b[0;34m\u001b[0m\u001b[0;34m\u001b[0m\u001b[0m\n\u001b[0;32m--> 895\u001b[0;31m                 \u001b[0;32mraise\u001b[0m \u001b[0mKeyboardInterrupt\u001b[0m\u001b[0;34m(\u001b[0m\u001b[0;34m\"Interrupted by user\"\u001b[0m\u001b[0;34m)\u001b[0m \u001b[0;32mfrom\u001b[0m \u001b[0;32mNone\u001b[0m\u001b[0;34m\u001b[0m\u001b[0;34m\u001b[0m\u001b[0m\n\u001b[0m\u001b[1;32m    896\u001b[0m             \u001b[0;32mexcept\u001b[0m \u001b[0mException\u001b[0m \u001b[0;32mas\u001b[0m \u001b[0me\u001b[0m\u001b[0;34m:\u001b[0m\u001b[0;34m\u001b[0m\u001b[0;34m\u001b[0m\u001b[0m\n\u001b[1;32m    897\u001b[0m                 \u001b[0mself\u001b[0m\u001b[0;34m.\u001b[0m\u001b[0mlog\u001b[0m\u001b[0;34m.\u001b[0m\u001b[0mwarning\u001b[0m\u001b[0;34m(\u001b[0m\u001b[0;34m\"Invalid Message:\"\u001b[0m\u001b[0;34m,\u001b[0m \u001b[0mexc_info\u001b[0m\u001b[0;34m=\u001b[0m\u001b[0;32mTrue\u001b[0m\u001b[0;34m)\u001b[0m\u001b[0;34m\u001b[0m\u001b[0;34m\u001b[0m\u001b[0m\n",
            "\u001b[0;31mKeyboardInterrupt\u001b[0m: Interrupted by user"
          ]
        }
      ]
    },
    {
      "cell_type": "code",
      "source": [
        "chat"
      ],
      "metadata": {
        "colab": {
          "base_uri": "https://localhost:8080/"
        },
        "id": "TnSN6qebpbd0",
        "outputId": "913c7e95-f0e7-450b-b122-8b41dee33909"
      },
      "execution_count": 17,
      "outputs": [
        {
          "output_type": "execute_result",
          "data": {
            "text/plain": [
              "ChatSession(\n",
              "    model=genai.GenerativeModel(\n",
              "        model_name='models/gemini-1.0-pro',\n",
              "        generation_config={'candidate_count': 1, 'temperature': 0.8},\n",
              "        safety_settings={<HarmCategory.HARM_CATEGORY_HATE_SPEECH: 8>: <HarmBlockThreshold.BLOCK_NONE: 4>, <HarmCategory.HARM_CATEGORY_HARASSMENT: 7>: <HarmBlockThreshold.BLOCK_NONE: 4>, <HarmCategory.HARM_CATEGORY_SEXUALLY_EXPLICIT: 9>: <HarmBlockThreshold.BLOCK_NONE: 4>, <HarmCategory.HARM_CATEGORY_DANGEROUS_CONTENT: 10>: <HarmBlockThreshold.BLOCK_NONE: 4>},\n",
              "        tools=None,\n",
              "        system_instruction=None,\n",
              "    ),\n",
              "    history=[glm.Content({'parts': [{'text': 'crie um site... cadeirantes '}], 'role': 'user'}), glm.Content({'parts': [{'text': '**Nome do si...dos pelo site'}], 'role': 'model'})]\n",
              ")"
            ]
          },
          "metadata": {},
          "execution_count": 17
        }
      ]
    },
    {
      "cell_type": "code",
      "source": [
        "chat.history"
      ],
      "metadata": {
        "colab": {
          "base_uri": "https://localhost:8080/"
        },
        "id": "PmG2evbl5elz",
        "outputId": "9ad2c007-7789-4039-d961-e245bd500e4b"
      },
      "execution_count": 18,
      "outputs": [
        {
          "output_type": "execute_result",
          "data": {
            "text/plain": [
              "[parts {\n",
              "   text: \"crie um site de viagens para cadeirantes \"\n",
              " }\n",
              " role: \"user\",\n",
              " parts {\n",
              "   text: \"**Nome do site:** Viajantes Sem Limites\\n\\n**P\\303\\241gina inicial:**\\n\\n* Imagem em destaque de uma pessoa em cadeira de rodas explorando um destino deslumbrante\\n* T\\303\\255tulo: Viajantes Sem Limites - Explorando o Mundo com Acessibilidade\\n* Slogan: Turismo acess\\303\\255vel para todos\\n\\n**Navega\\303\\247\\303\\243o:**\\n\\n* **Destinos:**\\n    * Pa\\303\\255ses e cidades acess\\303\\255veis\\n    * Guias de viagem e dicas para destinos espec\\303\\255ficos\\n* **Hospedagem:**\\n    * Hot\\303\\251is e resorts acess\\303\\255veis\\n    * Aluguel de casas e apartamentos equipados para cadeirantes\\n* **Transporte:**\\n    * Op\\303\\247\\303\\265es de transporte acess\\303\\255vel, incluindo trens, \\303\\264nibus e companhias a\\303\\251reas\\n* **Acessorios:**\\n    * Equipamentos e dispositivos para melhorar a acessibilidade durante as viagens\\n* **Comunidade:**\\n    * F\\303\\263rum para conectar-se com outros viajantes cadeirantes\\n    * Compartilhamento de experi\\303\\252ncias e dicas\\n* **Sobre n\\303\\263s:**\\n    * Miss\\303\\243o e vis\\303\\243o do site\\n    * Equipe editorial e colunistas\\n\\n**Conte\\303\\272do do site:**\\n\\n**Destinos:**\\n\\n* Guias completos de pa\\303\\255ses e cidades, destacando atra\\303\\247\\303\\265es acess\\303\\255veis, restaurantes e op\\303\\247\\303\\265es de transporte\\n* Entrevistas com viajantes cadeirantes compartilhando suas experi\\303\\252ncias e dicas\\n* Artigos sobre destinos escondidos e locais menos conhecidos\\n\\n**Hospedagem:**\\n\\n* Listagens abrangentes de hot\\303\\251is e resorts acess\\303\\255veis\\n* Avalia\\303\\247\\303\\265es de usu\\303\\241rios e informa\\303\\247\\303\\265es detalhadas sobre comodidades\\n* Ofertas e descontos exclusivos para viajantes cadeirantes\\n\\n**Transporte:**\\n\\n* Informa\\303\\247\\303\\265es sobre op\\303\\247\\303\\265es de transporte acess\\303\\255vel, incluindo hor\\303\\241rios e tarifas\\n* Dicas para reservar bilhetes e navegar em esta\\303\\247\\303\\265es e aeroportos\\n* Experi\\303\\252ncias pessoais de viajantes cadeirantes usando diferentes meios de transporte\\n\\n**Acessorios:**\\n\\n* Cr\\303\\255ticas e compara\\303\\247\\303\\265es de equipamentos de acessibilidade para viagens, como cadeiras de rodas, bengalas e dispositivos de transfer\\303\\252ncia\\n* Tutoriais e v\\303\\255deos sobre como usar equipamentos de acessibilidade\\n* Guias para montar uma mala acess\\303\\255vel\\n\\n**Comunidade:**\\n\\n* F\\303\\263rum ativo onde os viajantes cadeirantes podem se conectar, fazer perguntas e compartilhar hist\\303\\263rias\\n* Grupos de discuss\\303\\243o sobre t\\303\\263picos espec\\303\\255ficos, como viagens em destinos espec\\303\\255ficos ou adapta\\303\\247\\303\\243o de equipamentos\\n* Artigos e entrevistas com l\\303\\255deres da comunidade e defensores da acessibilidade\\n\\n**Sobre n\\303\\263s:**\\n\\n* Declara\\303\\247\\303\\243o de miss\\303\\243o: tornar as viagens acess\\303\\255veis para todos, independentemente da defici\\303\\252ncia\\n* Biografias da equipe editorial e colunistas, destacando suas experi\\303\\252ncias e especializa\\303\\247\\303\\265es\\n* Reconhecimentos e pr\\303\\252mios recebidos pelo site\"\n",
              " }\n",
              " role: \"model\"]"
            ]
          },
          "metadata": {},
          "execution_count": 18
        }
      ]
    },
    {
      "cell_type": "code",
      "source": [
        "#Melhorando a visualização\n",
        "#Código disponível em https://ai.google.dev/tutorials/python_quickstart#import_packages\n",
        "import textwrap\n",
        "from IPython.display import display\n",
        "from IPython.display import Markdown\n",
        "\n",
        "def to_markdown(text):\n",
        "  text = text.replace('•', '  *')\n",
        "  return Markdown(textwrap.indent(text, '> ', predicate=lambda _: True))\n",
        "\n",
        "#Imprimindo o histórico\n",
        "for message in chat.history:\n",
        "  display(to_markdown(f'**{message.role}**: {message.parts[0].text}'))\n",
        "  print('-------------------------------------------')"
      ],
      "metadata": {
        "id": "nGNUlgbD49a9",
        "colab": {
          "base_uri": "https://localhost:8080/",
          "height": 1000
        },
        "outputId": "36531053-c4dc-479a-8bea-025ddbe17641"
      },
      "execution_count": 19,
      "outputs": [
        {
          "output_type": "display_data",
          "data": {
            "text/plain": [
              "<IPython.core.display.Markdown object>"
            ],
            "text/markdown": "> **user**: crie um site de viagens para cadeirantes "
          },
          "metadata": {}
        },
        {
          "output_type": "stream",
          "name": "stdout",
          "text": [
            "-------------------------------------------\n"
          ]
        },
        {
          "output_type": "display_data",
          "data": {
            "text/plain": [
              "<IPython.core.display.Markdown object>"
            ],
            "text/markdown": "> **model**: **Nome do site:** Viajantes Sem Limites\n> \n> **Página inicial:**\n> \n> * Imagem em destaque de uma pessoa em cadeira de rodas explorando um destino deslumbrante\n> * Título: Viajantes Sem Limites - Explorando o Mundo com Acessibilidade\n> * Slogan: Turismo acessível para todos\n> \n> **Navegação:**\n> \n> * **Destinos:**\n>     * Países e cidades acessíveis\n>     * Guias de viagem e dicas para destinos específicos\n> * **Hospedagem:**\n>     * Hotéis e resorts acessíveis\n>     * Aluguel de casas e apartamentos equipados para cadeirantes\n> * **Transporte:**\n>     * Opções de transporte acessível, incluindo trens, ônibus e companhias aéreas\n> * **Acessorios:**\n>     * Equipamentos e dispositivos para melhorar a acessibilidade durante as viagens\n> * **Comunidade:**\n>     * Fórum para conectar-se com outros viajantes cadeirantes\n>     * Compartilhamento de experiências e dicas\n> * **Sobre nós:**\n>     * Missão e visão do site\n>     * Equipe editorial e colunistas\n> \n> **Conteúdo do site:**\n> \n> **Destinos:**\n> \n> * Guias completos de países e cidades, destacando atrações acessíveis, restaurantes e opções de transporte\n> * Entrevistas com viajantes cadeirantes compartilhando suas experiências e dicas\n> * Artigos sobre destinos escondidos e locais menos conhecidos\n> \n> **Hospedagem:**\n> \n> * Listagens abrangentes de hotéis e resorts acessíveis\n> * Avaliações de usuários e informações detalhadas sobre comodidades\n> * Ofertas e descontos exclusivos para viajantes cadeirantes\n> \n> **Transporte:**\n> \n> * Informações sobre opções de transporte acessível, incluindo horários e tarifas\n> * Dicas para reservar bilhetes e navegar em estações e aeroportos\n> * Experiências pessoais de viajantes cadeirantes usando diferentes meios de transporte\n> \n> **Acessorios:**\n> \n> * Críticas e comparações de equipamentos de acessibilidade para viagens, como cadeiras de rodas, bengalas e dispositivos de transferência\n> * Tutoriais e vídeos sobre como usar equipamentos de acessibilidade\n> * Guias para montar uma mala acessível\n> \n> **Comunidade:**\n> \n> * Fórum ativo onde os viajantes cadeirantes podem se conectar, fazer perguntas e compartilhar histórias\n> * Grupos de discussão sobre tópicos específicos, como viagens em destinos específicos ou adaptação de equipamentos\n> * Artigos e entrevistas com líderes da comunidade e defensores da acessibilidade\n> \n> **Sobre nós:**\n> \n> * Declaração de missão: tornar as viagens acessíveis para todos, independentemente da deficiência\n> * Biografias da equipe editorial e colunistas, destacando suas experiências e especializações\n> * Reconhecimentos e prêmios recebidos pelo site"
          },
          "metadata": {}
        },
        {
          "output_type": "stream",
          "name": "stdout",
          "text": [
            "-------------------------------------------\n"
          ]
        }
      ]
    }
  ]
}